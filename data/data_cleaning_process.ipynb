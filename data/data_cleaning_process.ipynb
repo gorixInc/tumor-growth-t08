{
 "cells": [
  {
   "cell_type": "code",
   "execution_count": null,
   "id": "7ec0c537",
   "metadata": {
    "scrolled": false
   },
   "outputs": [],
   "source": [
    "import numpy as np\n",
    "import matplotlib.pyplot as plt\n",
    "from glob import glob\n",
    "import os\n",
    "import shutil\n",
    "\n",
    "data_path = 'C:/Users/teele_k/Downloads/2d_dataset/data_cleaned'\n",
    "\n",
    "npy_files = glob(os.path.join(data_path, '*.npy'))\n",
    "\n",
    "\n",
    "def review_and_delete_images(files):\n",
    "    for file in files:\n",
    "        data = np.load(file)\n",
    "        image, annotation = data[0], data[1]\n",
    "\n",
    "        # Display the image and annotation side by side\n",
    "        fig, ax = plt.subplots(1, 2, figsize=(10, 5))\n",
    "        ax[0].imshow(image, cmap='gray')\n",
    "        ax[0].set_title('Image')\n",
    "        ax[1].imshow(annotation, cmap='gray')\n",
    "        ax[1].set_title('Annotation')\n",
    "        plt.show()\n",
    "\n",
    "        # Ask the user whether to delete the file\n",
    "        delete = input(\"Delete this file? (y/n): \").strip().lower()\n",
    "        if delete == 'y':\n",
    "            os.remove(file)\n",
    "            print(f\"Deleted file: {file}\")\n",
    "\n",
    "review_and_delete_images(npy_files)\n"
   ]
  },
  {
   "cell_type": "code",
   "execution_count": null,
   "id": "3a3ae1fb",
   "metadata": {},
   "outputs": [],
   "source": []
  }
 ],
 "metadata": {
  "kernelspec": {
   "display_name": "Python 3 (ipykernel)",
   "language": "python",
   "name": "python3"
  },
  "language_info": {
   "codemirror_mode": {
    "name": "ipython",
    "version": 3
   },
   "file_extension": ".py",
   "mimetype": "text/x-python",
   "name": "python",
   "nbconvert_exporter": "python",
   "pygments_lexer": "ipython3",
   "version": "3.11.5"
  }
 },
 "nbformat": 4,
 "nbformat_minor": 5
}
