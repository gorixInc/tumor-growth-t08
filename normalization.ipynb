{
 "cells": [
  {
   "cell_type": "code",
   "execution_count": null,
   "id": "67808d1d",
   "metadata": {},
   "outputs": [],
   "source": [
    "import numpy as np\n",
    "from glob import glob\n",
    "import os\n",
    "import matplotlib.pyplot as plt\n",
    "\n",
    "data_path = 'C:/Users/teele_k/Downloads/2d_dataset/data_cleaned_normalized'\n",
    "\n",
    "npy_files = glob(os.path.join(data_path, '*.npy'))\n",
    "\n",
    "def normalize_image(image):\n",
    "    mean = np.mean(image)\n",
    "    std = np.std(image)\n",
    "    return (image - mean) / std\n",
    "\n",
    "# Normalize each image and save\n",
    "for file in npy_files:\n",
    "    data = np.load(file)\n",
    "    image = data[0]  # first element is the image\n",
    "    normalized_image = normalize_image(image)\n",
    "    np.save(file, np.array([normalized_image, data[1]]))  # Saving both image and annotation\n",
    "\n",
    "    \n",
    "# Check if normalization worked\n",
    "\n",
    "# List a few .npy files for checking\n",
    "npy_files = glob(os.path.join(data_path, '*.npy'))[:5]  # Adjust the number as needed\n",
    "\n",
    "for file in npy_files:\n",
    "    data = np.load(file)\n",
    "    image = data[0]\n",
    "\n",
    "    # Display the image\n",
    "    plt.imshow(image, cmap='gray')\n",
    "    plt.title(f'Normalized Image: {os.path.basename(file)}')\n",
    "    plt.colorbar()\n",
    "    plt.show()\n",
    "\n",
    "    print(f\"Mean: {np.mean(image):.2f}, Standard Deviation: {np.std(image):.2f}\")\n"
   ]
  }
 ],
 "metadata": {
  "kernelspec": {
   "display_name": "Python 3 (ipykernel)",
   "language": "python",
   "name": "python3"
  },
  "language_info": {
   "codemirror_mode": {
    "name": "ipython",
    "version": 3
   },
   "file_extension": ".py",
   "mimetype": "text/x-python",
   "name": "python",
   "nbconvert_exporter": "python",
   "pygments_lexer": "ipython3",
   "version": "3.11.5"
  }
 },
 "nbformat": 4,
 "nbformat_minor": 5
}
