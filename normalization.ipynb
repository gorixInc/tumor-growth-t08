{
 "cells": [
  {
   "cell_type": "code",
   "execution_count": null,
   "id": "aa5efbf6",
   "metadata": {},
   "outputs": [],
   "source": [
    "import numpy as np\n",
    "from glob import glob\n",
    "import os\n",
    "\n",
    "data_path = 'C:/Users/teele_k/Downloads/2d_dataset/data_cleaned_normalized'\n",
    "\n",
    "npy_files = glob(os.path.join(data_path, '*.npy'))\n",
    "\n",
    "def normalize_image(image):\n",
    "    mean = np.mean(image)\n",
    "    std = np.std(image)\n",
    "    return (image - mean) / std\n",
    "\n",
    "# Normalize each image and save\n",
    "for file in npy_files:\n",
    "    data = np.load(file)\n",
    "    image = data[0]  # first element is the image\n",
    "    normalized_image = normalize_image(image)\n",
    "    np.save(file, np.array([normalized_image, data[1]]))  # Saving both image and annotation\n"
   ]
  }
 ],
 "metadata": {
  "kernelspec": {
   "display_name": "Python 3 (ipykernel)",
   "language": "python",
   "name": "python3"
  },
  "language_info": {
   "codemirror_mode": {
    "name": "ipython",
    "version": 3
   },
   "file_extension": ".py",
   "mimetype": "text/x-python",
   "name": "python",
   "nbconvert_exporter": "python",
   "pygments_lexer": "ipython3",
   "version": "3.11.5"
  }
 },
 "nbformat": 4,
 "nbformat_minor": 5
}
